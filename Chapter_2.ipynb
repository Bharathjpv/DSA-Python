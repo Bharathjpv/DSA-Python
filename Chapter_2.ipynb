{
 "cells": [
  {
   "attachments": {},
   "cell_type": "markdown",
   "metadata": {},
   "source": [
    "# Binary Search Trees, Traversals and Recursion"
   ]
  },
  {
   "attachments": {},
   "cell_type": "markdown",
   "metadata": {},
   "source": [
    "## Problem \n",
    "\n",
    "\n",
    "In this notebook, we'll focus on solving the following problem:\n",
    "\n",
    "> **QUESTION 1**: As a senior backend engineer at Jovian, you are tasked with developing a fast in-memory data structure to manage profile information (username, name and email) for 100 million users. It should allow the following operations to be performed efficiently:\n",
    "> \n",
    "> 1. **Insert** the profile information for a new user.\n",
    "> 2. **Find** the profile information of a user, given their username\n",
    "> 3. **Update** the profile information of a user, given their usrname\n",
    "> 5. **List** all the users of the platform, sorted by username\n",
    ">\n",
    "> You can assume that usernames are unique. \n",
    "\n",
    "Along the way, we will also solve several other questions related to binary trees and binary search trees that are often asked in coding interviews and assessments. "
   ]
  },
  {
   "cell_type": "code",
   "execution_count": 3,
   "metadata": {},
   "outputs": [],
   "source": [
    "class User:\n",
    "    def __init__(self, username, name, email):\n",
    "        self.username = username\n",
    "        self.name = name\n",
    "        self.email = email\n",
    "        \n",
    "    def __repr__(self):\n",
    "        return \"User(username='{}', name='{}', email='{}')\".format(self.username, self.name, self.email)\n",
    "    \n",
    "    def __str__(self):\n",
    "        return self.__repr__()"
   ]
  },
  {
   "cell_type": "code",
   "execution_count": 5,
   "metadata": {},
   "outputs": [],
   "source": [
    "user = User('baru', 'Bharath', 'barath@gmail.com')"
   ]
  },
  {
   "cell_type": "code",
   "execution_count": 9,
   "metadata": {},
   "outputs": [
    {
     "data": {
      "text/plain": [
       "('Bharath', 'baru', 'barath@gmail.com')"
      ]
     },
     "execution_count": 9,
     "metadata": {},
     "output_type": "execute_result"
    }
   ],
   "source": [
    "user.name, user.username, user.email"
   ]
  },
  {
   "attachments": {},
   "cell_type": "markdown",
   "metadata": {},
   "source": [
    "Output\n",
    "\n",
    "We can also express our desired data structure as a Python class `UserDatabase` with four methods: `insert`, `find`, `update` and `list_all`. "
   ]
  },
  {
   "cell_type": "code",
   "execution_count": 11,
   "metadata": {},
   "outputs": [],
   "source": [
    "aakash = User('aakash', 'Aakash Rai', 'aakash@example.com')\n",
    "biraj = User('biraj', 'Biraj Das', 'biraj@example.com')\n",
    "hemanth = User('hemanth', 'Hemanth Jain', 'hemanth@example.com')\n",
    "jadhesh = User('jadhesh', 'Jadhesh Verma', 'jadhesh@example.com')\n",
    "siddhant = User('siddhant', 'Siddhant Sinha', 'siddhant@example.com')\n",
    "sonaksh = User('sonaksh', 'Sonaksh Kumar', 'sonaksh@example.com')\n",
    "vishal = User('vishal', 'Vishal Goel', 'vishal@example.com')"
   ]
  },
  {
   "cell_type": "code",
   "execution_count": 12,
   "metadata": {},
   "outputs": [],
   "source": [
    "users = [aakash, biraj, hemanth, jadhesh, siddhant, sonaksh, vishal]"
   ]
  },
  {
   "cell_type": "code",
   "execution_count": 13,
   "metadata": {},
   "outputs": [
    {
     "data": {
      "text/plain": [
       "('biraj', 'biraj@example.com', 'Biraj Das')"
      ]
     },
     "execution_count": 13,
     "metadata": {},
     "output_type": "execute_result"
    }
   ],
   "source": [
    "biraj.username, biraj.email, biraj.name"
   ]
  },
  {
   "cell_type": "code",
   "execution_count": 14,
   "metadata": {},
   "outputs": [
    {
     "name": "stdout",
     "output_type": "stream",
     "text": [
      "User(username='aakash', name='Aakash Rai', email='aakash@example.com')\n"
     ]
    }
   ],
   "source": [
    "print(aakash)"
   ]
  },
  {
   "cell_type": "code",
   "execution_count": 15,
   "metadata": {},
   "outputs": [
    {
     "data": {
      "text/plain": [
       "[User(username='aakash', name='Aakash Rai', email='aakash@example.com'),\n",
       " User(username='biraj', name='Biraj Das', email='biraj@example.com'),\n",
       " User(username='hemanth', name='Hemanth Jain', email='hemanth@example.com'),\n",
       " User(username='jadhesh', name='Jadhesh Verma', email='jadhesh@example.com'),\n",
       " User(username='siddhant', name='Siddhant Sinha', email='siddhant@example.com'),\n",
       " User(username='sonaksh', name='Sonaksh Kumar', email='sonaksh@example.com'),\n",
       " User(username='vishal', name='Vishal Goel', email='vishal@example.com')]"
      ]
     },
     "execution_count": 15,
     "metadata": {},
     "output_type": "execute_result"
    }
   ],
   "source": [
    "users"
   ]
  },
  {
   "attachments": {},
   "cell_type": "markdown",
   "metadata": {},
   "source": [
    "### Come up with a correct solution. State it in plain English.\n",
    "\n",
    "Here's a simple and easy solution to the problem: we store the `User` objects in a list sorted by usernames. \n",
    "\n",
    "The various functions can be implemented as follows:\n",
    "\n",
    "1. **Insert**: Loop through the list and add the new user at a position that keeps the list sorted.\n",
    "2. **Find**: Loop through the list and find the user object with the username matching the query.\n",
    "3. **Update**: Loop through the list, find the user object matching the query and update the details\n",
    "4. **List**: Return the list of user objects.\n",
    "\n",
    "We can use the fact usernames, which are are strings can be compared using the `<`, `>` and `==` operators in Python."
   ]
  },
  {
   "cell_type": "code",
   "execution_count": 16,
   "metadata": {},
   "outputs": [
    {
     "data": {
      "text/plain": [
       "True"
      ]
     },
     "execution_count": 16,
     "metadata": {},
     "output_type": "execute_result"
    }
   ],
   "source": [
    "'biraj' < 'hemanth'"
   ]
  },
  {
   "cell_type": "code",
   "execution_count": null,
   "metadata": {},
   "outputs": [],
   "source": []
  }
 ],
 "metadata": {
  "kernelspec": {
   "display_name": "Python 3",
   "language": "python",
   "name": "python3"
  },
  "language_info": {
   "codemirror_mode": {
    "name": "ipython",
    "version": 3
   },
   "file_extension": ".py",
   "mimetype": "text/x-python",
   "name": "python",
   "nbconvert_exporter": "python",
   "pygments_lexer": "ipython3",
   "version": "3.10.6"
  },
  "orig_nbformat": 4,
  "vscode": {
   "interpreter": {
    "hash": "916dbcbb3f70747c44a77c7bcd40155683ae19c65e1c03b4aa3499c5328201f1"
   }
  }
 },
 "nbformat": 4,
 "nbformat_minor": 2
}
