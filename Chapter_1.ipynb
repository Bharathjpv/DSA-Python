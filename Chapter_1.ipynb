{
 "cells": [
  {
   "cell_type": "code",
   "execution_count": 8,
   "metadata": {},
   "outputs": [
    {
     "data": {
      "application/javascript": "if (window.IPython && IPython.notebook.kernel) IPython.notebook.kernel.execute('jovian.utils.jupyter.get_notebook_name_saved = lambda: \"' + IPython.notebook.notebook_name + '\"')",
      "text/plain": [
       "<IPython.core.display.Javascript object>"
      ]
     },
     "metadata": {},
     "output_type": "display_data"
    }
   ],
   "source": [
    "from jovian.pythondsa import evaluate_test_cases"
   ]
  },
  {
   "attachments": {},
   "cell_type": "markdown",
   "metadata": {},
   "source": [
    "# Binary Search, Linked list and Complexity"
   ]
  },
  {
   "attachments": {},
   "cell_type": "markdown",
   "metadata": {},
   "source": [
    "## Binary Search"
   ]
  },
  {
   "attachments": {},
   "cell_type": "markdown",
   "metadata": {},
   "source": [
    "QUESTION 1: Alice has some cards with numbers written on them. She arranges the cards in decreasing order, and lays them out face down in a sequence on a table. She challenges Bob to pick out the card containing a given number by turning over as few cards as possible. Write a function to help Bob locate the card."
   ]
  },
  {
   "attachments": {},
   "cell_type": "markdown",
   "metadata": {},
   "source": [
    "We need to write a program to find the position of a given number in a list of numbers arranged in decreasing order. We also need to minimize the number of times we access elements from the list."
   ]
  },
  {
   "attachments": {},
   "cell_type": "markdown",
   "metadata": {},
   "source": [
    "THE METHOD\n",
    "\n",
    "1. State the problem clearly. Identify the input & output formats.\n",
    "2. Come up with some example inputs & outputs. Try to cover all edge cases.\n",
    "3. Come up with a correct solution for the problem. State it in plain English.\n",
    "4. Implement the solution and test it using example inputs. Fix bugs, if any.\n",
    "5. Analyze the algorithm's complexity and identify inefficiencies, if any.\n",
    "6. Apply the right technique to overcome the inefficiency. Repeat steps 3 to 6."
   ]
  },
  {
   "attachments": {},
   "cell_type": "markdown",
   "metadata": {},
   "source": [
    "### Step_1. State Poblem clearly with input and output."
   ]
  },
  {
   "attachments": {},
   "cell_type": "markdown",
   "metadata": {},
   "source": [
    "We need to write a program to find the position of a given number in a list of numbers arranged in decreasing order. We also need to minimize the number of times we access elements from the list."
   ]
  },
  {
   "attachments": {},
   "cell_type": "markdown",
   "metadata": {},
   "source": [
    "Input\n",
    "\n",
    "1. cards: A list of numbers sorted in decreasing order. E.g. [13, 11, 10, 7, 4, 3, 1, 0]\n",
    "\n",
    "2. query: A number, whose position in the array is to be determined. E.g. 7\n",
    "\n",
    "Output\n",
    "\n",
    "3. position: The position of query in the list cards. E.g. 3 in the above case (counting from 0)"
   ]
  },
  {
   "cell_type": "code",
   "execution_count": null,
   "metadata": {},
   "outputs": [],
   "source": [
    "def locate_card(cards, query):\n",
    "    pass"
   ]
  },
  {
   "attachments": {},
   "cell_type": "markdown",
   "metadata": {},
   "source": [
    "### Step_2. Come up with some example inputs & outputs. Try to cover all edge cases.\n",
    "\n",
    "Before we start implementing our function, it would be useful to come up with some example inputs and outputs which we can use later to test out problem. We'll refer to them as test cases.\n",
    "\n",
    "Here's the test case described in the example above."
   ]
  },
  {
   "cell_type": "code",
   "execution_count": null,
   "metadata": {},
   "outputs": [],
   "source": [
    "cards = [13, 11, 10, 7, 4, 3, 1, 0]\n",
    "query = 7\n",
    "output = 3"
   ]
  },
  {
   "cell_type": "code",
   "execution_count": null,
   "metadata": {},
   "outputs": [],
   "source": [
    "test = {\n",
    "    'input': { \n",
    "        'cards': [13, 11, 10, 7, 4, 3, 1, 0], \n",
    "        'query': 7\n",
    "    },\n",
    "    'output': 3\n",
    "}"
   ]
  },
  {
   "cell_type": "code",
   "execution_count": null,
   "metadata": {},
   "outputs": [],
   "source": [
    "locate_card(**test['input']) == test['output']"
   ]
  },
  {
   "attachments": {},
   "cell_type": "markdown",
   "metadata": {},
   "source": [
    "The number query occurs somewhere in the middle of the list cards.\n",
    "\n",
    "query is the first element in cards.\n",
    "\n",
    "query is the last element in cards.\n",
    "\n",
    "The list cards contains just one element, which is query.\n",
    "\n",
    "The list cards does not contain number query.\n",
    "\n",
    "The list cards is empty.\n",
    "\n",
    "The list cards contains repeating numbers.\n",
    "\n",
    "The number query occurs at more than one position in cards.\n",
    "\n",
    "(can you think of any more variations?)"
   ]
  },
  {
   "cell_type": "code",
   "execution_count": null,
   "metadata": {},
   "outputs": [],
   "source": [
    "tests = []\n",
    "\n",
    "# query in the exact middle\n",
    "tests.append({\n",
    "    'input': { \n",
    "        'cards': [13, 11, 10, 7, 4, 3, 1, 0], \n",
    "        'query': 7\n",
    "    },\n",
    "    'output': 3\n",
    "})\n",
    "\n",
    "# query occurs anywhere in the middle\n",
    "tests.append({\n",
    "    'input': {\n",
    "        'cards': [13, 11, 10, 7, 4, 3, 1, 0],\n",
    "        'query': 1\n",
    "    },\n",
    "    'output': 6\n",
    "})\n",
    "\n",
    "# query is the first element\n",
    "tests.append({\n",
    "    'input': {\n",
    "        'cards': [4, 2, 1, -1],\n",
    "        'query': 4\n",
    "    },\n",
    "    'output': 0\n",
    "})\n",
    "\n",
    "# query is the last element\n",
    "tests.append({\n",
    "    'input': {\n",
    "        'cards': [3, -1, -9, -127],\n",
    "        'query': -127\n",
    "    },\n",
    "    'output': 3\n",
    "})\n",
    "\n",
    "# cards contains just one element, query\n",
    "tests.append({\n",
    "    'input': {\n",
    "        'cards': [6],\n",
    "        'query': 6\n",
    "    },\n",
    "    'output': 0 \n",
    "})\n",
    "\n",
    "# cards does not contain query \n",
    "tests.append({\n",
    "    'input': {\n",
    "        'cards': [9, 7, 5, 2, -9],\n",
    "        'query': 4\n",
    "    },\n",
    "    'output': -1\n",
    "})\n",
    "\n",
    "# cards is empty\n",
    "tests.append({\n",
    "    'input': {\n",
    "        'cards': [],\n",
    "        'query': 7\n",
    "    },\n",
    "    'output': -1\n",
    "})\n",
    "\n",
    "# numbers can repeat in cards\n",
    "tests.append({\n",
    "    'input': {\n",
    "        'cards': [8, 8, 6, 6, 6, 6, 6, 3, 2, 2, 2, 0, 0, 0],\n",
    "        'query': 3\n",
    "    },\n",
    "    'output': 7\n",
    "})\n",
    "\n",
    "# query occurs multiple times\n",
    "tests.append({\n",
    "    'input': {\n",
    "        'cards': [8, 8, 6, 6, 6, 6, 6, 6, 3, 2, 2, 2, 0, 0, 0],\n",
    "        'query': 6\n",
    "    },\n",
    "    'output': 2\n",
    "})"
   ]
  },
  {
   "cell_type": "code",
   "execution_count": null,
   "metadata": {},
   "outputs": [],
   "source": [
    "tests"
   ]
  },
  {
   "attachments": {},
   "cell_type": "markdown",
   "metadata": {},
   "source": [
    "### Step_3. Come up with a correct solution for the problem. State it in plain English."
   ]
  },
  {
   "attachments": {},
   "cell_type": "markdown",
   "metadata": {},
   "source": [
    "1. Create a variable position with the value 0.\n",
    "2. Check whether the number at index position in card equals query.\n",
    "3. If it does, position is the answer and can be returned from the function\n",
    "4. If not, increment the value of position by 1, and repeat steps 2 to 5 till we reach the last position.\n",
    "5. If the number was not found, return -1."
   ]
  },
  {
   "attachments": {},
   "cell_type": "markdown",
   "metadata": {},
   "source": [
    "### Step_4. Implement the solution and test it using example inputs. Fix bugs, if any.\n",
    "\n",
    "\n",
    "Phew! We are finally ready to implement our solution. All the work we've done so far will definitely come in handy, as we now exactly what we want our function to do, and we have an easy way of testing it on a variety of inputs.\n",
    "\n",
    "Here's a first attempt at implementing the function."
   ]
  },
  {
   "cell_type": "code",
   "execution_count": null,
   "metadata": {},
   "outputs": [],
   "source": [
    "def locate_card(cards, query):\n",
    "    position = 0\n",
    "\n",
    "    while True:\n",
    "        if len(cards) == 0:\n",
    "            return -1\n",
    "        if cards[position] == query:\n",
    "\n",
    "            return position\n",
    "        position +=1\n",
    "\n",
    "        if position == len(cards):\n",
    "            return -1"
   ]
  },
  {
   "cell_type": "code",
   "execution_count": null,
   "metadata": {},
   "outputs": [],
   "source": [
    "def locate_card(cards, query):\n",
    "\n",
    "    position = 0\n",
    "\n",
    "    while position < len(cards):\n",
    "        if cards[position] == query:\n",
    "            return position\n",
    "        \n",
    "        position += 1\n",
    "\n",
    "    return -1"
   ]
  },
  {
   "cell_type": "code",
   "execution_count": null,
   "metadata": {},
   "outputs": [],
   "source": [
    "evaluate_test_cases(locate_card, tests)"
   ]
  },
  {
   "attachments": {},
   "cell_type": "markdown",
   "metadata": {},
   "source": [
    "### Stpe_5. Analyze the algorithm's complexity and identify inefficiencies, if any."
   ]
  },
  {
   "attachments": {},
   "cell_type": "markdown",
   "metadata": {},
   "source": [
    "Complexity and Big O Notation\n",
    "\n",
    "Complexity of an algorithm is a measure of the amount of time and/or space required by an algorithm for an input of a given size e.g. N. Unless otherwise stated, the term complexity always refers to the worst-case complexity (i.e. the highest possible time/space taken by the program/algorithm to process an input)."
   ]
  },
  {
   "attachments": {},
   "cell_type": "markdown",
   "metadata": {},
   "source": [
    "In the case of linear search:\n",
    "\n",
    "1. The time complexity of the algorithm is cN for some fixed constant c that depends on the number of operations we perform in each iteration and the time taken to execute a statement. Time complexity is sometimes also called the running time of the algorithm.\n",
    "\n",
    "2. The space complexity is some constant c' (independent of N), since we just need a single variable position to iterate through the array, and it occupies a constant space in the computer's memory (RAM).\n",
    "\n",
    "3. Big O Notation: Worst-case complexity is often expressed using the Big O notation. In the Big O, we drop fixed constants and lower powers of variables to capture the trend of relationship between the size of the input and the complexity of the algorithm i.e. if the complexity of the algorithm is cN^3 + dN^2 + eN + f, in the Big O notation it is expressed as O(N^3)"
   ]
  },
  {
   "attachments": {},
   "cell_type": "markdown",
   "metadata": {},
   "source": [
    "### Step_6. Apply the right technique to overcome the inefficiency. Repeat steps 3 to 6."
   ]
  },
  {
   "attachments": {},
   "cell_type": "markdown",
   "metadata": {},
   "source": [
    "At the moment, we're simply going over cards one by one, and not even utilizing the face that they're sorted. This is called a brute force approach.\n",
    "\n",
    "It would be great if Bob could somehow guess the card at the first attempt, but with all the cards turned over it's simply impossible to guess the right card.\n",
    "\n",
    "\n",
    "The next best idea would be to pick a random card, and use the fact that the list is sorted, to determine whether the target card lies to the left or right of it. In fact, if we pick the middle card, we can reduce the number of additional cards to be tested to half the size of the list. Then, we can simply repeat the process with each half. This technique is called binary search. Here's a visual explanation of the technique:"
   ]
  },
  {
   "attachments": {},
   "cell_type": "markdown",
   "metadata": {},
   "source": [
    "### Step_7. Come up with a correct solution for the problem. State it in plain English.\n",
    "Here's how binary search can be applied to our problem:\n",
    "\n",
    "1. Find the middle element of the list.\n",
    "2. If it matches queried number, return the middle position as the answer.\n",
    "3. If it is less than the queried number, then search the first half of the list\n",
    "4. If it is greater than the queried number, then search the second half of the list\n",
    "5. If no more elements remain, return -1."
   ]
  },
  {
   "attachments": {},
   "cell_type": "markdown",
   "metadata": {},
   "source": [
    "### Step_8. Implement the solution and test it using example inputs. Fix bugs, if any."
   ]
  },
  {
   "cell_type": "code",
   "execution_count": null,
   "metadata": {},
   "outputs": [],
   "source": [
    "def locate_card(cards, query):\n",
    "    lo, hi = 0, len(cards) -1\n",
    "\n",
    "    while lo <= hi:\n",
    "        mid = (lo + hi)//2\n",
    "        mid_number = cards[mid]\n",
    "\n",
    "        if mid_number == query:\n",
    "            return mid\n",
    "        elif mid_number < query:\n",
    "            hi = mid - 1\n",
    "        elif mid_number > query:\n",
    "            lo = mid + 1\n",
    "    \n",
    "    return -1"
   ]
  },
  {
   "cell_type": "code",
   "execution_count": null,
   "metadata": {},
   "outputs": [],
   "source": [
    "test['input']"
   ]
  },
  {
   "cell_type": "code",
   "execution_count": null,
   "metadata": {},
   "outputs": [],
   "source": [
    "locate_card(**tests[8]['input'])"
   ]
  },
  {
   "cell_type": "code",
   "execution_count": null,
   "metadata": {},
   "outputs": [],
   "source": [
    "evaluate_test_cases(locate_card, tests)"
   ]
  },
  {
   "cell_type": "code",
   "execution_count": null,
   "metadata": {},
   "outputs": [],
   "source": [
    "tests[8]"
   ]
  },
  {
   "cell_type": "code",
   "execution_count": null,
   "metadata": {},
   "outputs": [],
   "source": [
    "def test_location(cards, query, mid):\n",
    "    mid_number = cards[mid]\n",
    "    print(\"mid:\", mid, \", mid_number:\", mid_number)\n",
    "    if mid_number == query:\n",
    "        if mid-1 >= 0 and cards[mid-1] == query:\n",
    "            return 'left'\n",
    "        else:\n",
    "            return 'found'\n",
    "    elif mid_number < query:\n",
    "        return 'left'\n",
    "    else:\n",
    "        return 'right'\n",
    "\n",
    "def locate_card(cards, query):\n",
    "    lo, hi = 0, len(cards) - 1\n",
    "    \n",
    "    while lo <= hi:\n",
    "        print(\"lo:\", lo, \", hi:\", hi)\n",
    "        mid = (lo + hi) // 2\n",
    "        result = test_location(cards, query, mid)\n",
    "        \n",
    "        if result == 'found':\n",
    "            return mid\n",
    "        elif result == 'left':\n",
    "            hi = mid - 1\n",
    "        elif result == 'right':\n",
    "            lo = mid + 1\n",
    "    return -1"
   ]
  },
  {
   "cell_type": "code",
   "execution_count": null,
   "metadata": {},
   "outputs": [],
   "source": [
    "locate_card(**tests[3]['input'])"
   ]
  },
  {
   "cell_type": "code",
   "execution_count": null,
   "metadata": {},
   "outputs": [],
   "source": [
    "tests[3]"
   ]
  },
  {
   "cell_type": "code",
   "execution_count": null,
   "metadata": {},
   "outputs": [],
   "source": [
    "evaluate_test_cases(locate_card, tests)"
   ]
  },
  {
   "attachments": {},
   "cell_type": "markdown",
   "metadata": {},
   "source": [
    "## Generic Binary search"
   ]
  },
  {
   "attachments": {},
   "cell_type": "markdown",
   "metadata": {},
   "source": [
    "1. Come up with a condition to determine whether the answer lies before, after or at a given position\n",
    "2. Retrieve the midpoint and the middle element of the list.\n",
    "3. If it is the answer, return the middle position as the answer.\n",
    "4. If answer lies before it, repeat the search with the first half of the list\n",
    "5. If the answer lies after it, repeat the search with the second half of the list."
   ]
  },
  {
   "cell_type": "code",
   "execution_count": null,
   "metadata": {},
   "outputs": [],
   "source": [
    "def binary_search(lo, hi, condition):\n",
    "    while lo <= hi:\n",
    "        mid = (lo + hi) // 2\n",
    "        result = condition(mid)\n",
    "\n",
    "        if result == 'found':\n",
    "            return mid\n",
    "        elif result == 'left':\n",
    "            hi = mid-1\n",
    "        else:\n",
    "            lo = mid + 1\n",
    "    \n",
    "    return -1"
   ]
  },
  {
   "cell_type": "code",
   "execution_count": null,
   "metadata": {},
   "outputs": [],
   "source": [
    "def locate_card(cards, query):\n",
    "\n",
    "    def condition(mid):\n",
    "        if cards[mid] == query:\n",
    "            if mid > 0 and cards[mid -1] == query:\n",
    "                return 'left'\n",
    "            else:\n",
    "                return 'found'\n",
    "        elif cards[mid] < query:\n",
    "            return 'left'\n",
    "        else:\n",
    "            return 'right'\n",
    "    \n",
    "    return binary_search(0, len(cards)-1, condition)"
   ]
  },
  {
   "cell_type": "code",
   "execution_count": null,
   "metadata": {},
   "outputs": [],
   "source": [
    "evaluate_test_cases(locate_card, tests)"
   ]
  },
  {
   "cell_type": "code",
   "execution_count": null,
   "metadata": {},
   "outputs": [],
   "source": [
    "tests[6]"
   ]
  },
  {
   "attachments": {},
   "cell_type": "markdown",
   "metadata": {},
   "source": [
    "The `binary_search` function can now be used to solve other problems too. It is a tested piece of logic.\n",
    "\n",
    "\n",
    "> **Question**: Given an array of integers nums sorted in ascending order, find the starting and ending position of a given number. \n",
    "\n",
    "This differs from the problem in only two significant ways:\n",
    "\n",
    "1. The numbers are sorted in increasing order.\n",
    "2. We are looking for both the increasing order and the decreasing order.\n",
    "\n",
    "Here's the full code for solving the question, obtained by making minor modifications to our previous function:"
   ]
  },
  {
   "cell_type": "code",
   "execution_count": null,
   "metadata": {},
   "outputs": [],
   "source": [
    "fl_test = {\n",
    "    'input': {\n",
    "        'nums': [1,2,4,4,4,8,8,8,9,9,10],\n",
    "        'target': 8\n",
    "    },\n",
    "    'output': (5, 7)\n",
    "}"
   ]
  },
  {
   "cell_type": "code",
   "execution_count": null,
   "metadata": {},
   "outputs": [],
   "source": [
    "fl_test"
   ]
  },
  {
   "cell_type": "code",
   "execution_count": null,
   "metadata": {},
   "outputs": [],
   "source": [
    "def first_position(nums, target):\n",
    "    def condition(mid):\n",
    "        if nums[mid] == target:\n",
    "            if mid > 0 and nums[mid -1] == target:\n",
    "                return 'right'\n",
    "            return 'found'\n",
    "        elif nums[mid] < target:\n",
    "            return 'right'\n",
    "        else:\n",
    "            return 'left'\n",
    "    \n",
    "    return binary_search(0, len(cards)-1, condition)\n",
    "\n",
    "def last_position(nums, target):\n",
    "\n",
    "    def condition(mid):\n",
    "        if nums[mid] == target:\n",
    "            if mid < len(nums)-1 and nums[mid+1] == target:\n",
    "                return 'right'\n",
    "            return 'found'\n",
    "        \n",
    "        elif nums[mid] < target:\n",
    "            return 'right'\n",
    "        else:\n",
    "            return 'left'\n",
    "    \n",
    "    return binary_search(0, len(cards) -1, condition)"
   ]
  },
  {
   "cell_type": "code",
   "execution_count": null,
   "metadata": {},
   "outputs": [],
   "source": [
    "def first_and_last_position(nums, target):\n",
    "    return first_position(nums, target), last_position(nums, target)"
   ]
  },
  {
   "cell_type": "code",
   "execution_count": null,
   "metadata": {},
   "outputs": [],
   "source": [
    "fl_test"
   ]
  },
  {
   "cell_type": "code",
   "execution_count": null,
   "metadata": {},
   "outputs": [],
   "source": [
    "first_and_last_position(**fl_test['input'])"
   ]
  },
  {
   "attachments": {},
   "cell_type": "markdown",
   "metadata": {},
   "source": [
    "# Assignments"
   ]
  },
  {
   "attachments": {},
   "cell_type": "markdown",
   "metadata": {},
   "source": [
    "## Problem - Rotated Lists"
   ]
  },
  {
   "attachments": {},
   "cell_type": "markdown",
   "metadata": {},
   "source": [
    "We'll solve the following problem step-by-step:\n",
    "\n",
    "> You are given list of numbers, obtained by rotating a sorted list an unknown number of times. Write a function to determine the minimum number of times the original sorted list was rotated to obtain the given list. Your function should have the worst-case complexity of `O(log N)`, where N is the length of the list. You can assume that all the numbers in the list are unique.\n",
    ">\n",
    "> Example: The list `[5, 6, 9, 0, 2, 3, 4]` was obtained by rotating the sorted list `[0, 2, 3, 4, 5, 6, 9]` 3 times.\n",
    ">\n",
    "> We define \"rotating a list\" as removing the last element of the list and adding it before the first element. E.g. rotating the list `[3, 2, 4, 1]` produces `[1, 3, 2, 4]`. \n",
    ">\n",
    ">\"Sorted list\" refers to a list where the elements are arranged in the increasing order  e.g. `[1, 3, 5, 7]`.\n",
    ">"
   ]
  },
  {
   "cell_type": "code",
   "execution_count": 1,
   "metadata": {},
   "outputs": [],
   "source": [
    "rt_test = {\n",
    "    'input':{\n",
    "        'nums': [7,7,8,8,9,9,1,1,2,2,3,3,5,5,6,7]\n",
    "    },\n",
    "    'output':6\n",
    "}"
   ]
  },
  {
   "cell_type": "code",
   "execution_count": 2,
   "metadata": {},
   "outputs": [],
   "source": [
    "tests = []\n",
    "\n",
    "tests.append({\n",
    "    'input': {\n",
    "        'nums': [19, 25, 29, 3, 5, 6, 7, 9, 11, 14]\n",
    "    },\n",
    "    'output': 3\n",
    "})\n",
    "\n",
    "# list not rotated\n",
    "tests.append({\n",
    "    'input': {\n",
    "        'nums': [3, 5, 6, 7, 9, 11, 14,19, 25, 29]\n",
    "    },\n",
    "    'output': -1\n",
    "})\n",
    "\n",
    "# list rotated only once\n",
    "tests.append({\n",
    "    'input': {\n",
    "        'nums': [29, 3, 5, 6, 7, 9, 11, 14, 19, 25]\n",
    "    },\n",
    "    'output': 1\n",
    "})\n",
    "\n",
    "# list rotated (n-1) times\n",
    "tests.append({\n",
    "    'input': {\n",
    "        'nums': [6, 7, 9, 11, 14, 19, 25, 29, 3, 5]\n",
    "    },\n",
    "    'output': 8\n",
    "})\n",
    "\n",
    "# list rotated n times\n",
    "tests.append({\n",
    "    'input': {\n",
    "        'nums': [5, 6, 7, 9, 11, 14, 19, 25, 29, 3]\n",
    "    },\n",
    "    'output': 9\n",
    "})\n",
    "\n",
    "\n",
    "tests.append({\n",
    "    'input': {\n",
    "        'nums': []\n",
    "    },\n",
    "    'output': -1\n",
    "})\n",
    "\n",
    "\n",
    "tests.append({\n",
    "    'input': {\n",
    "        'nums': [3]\n",
    "    },\n",
    "    'output': -1\n",
    "})"
   ]
  },
  {
   "cell_type": "code",
   "execution_count": 3,
   "metadata": {},
   "outputs": [],
   "source": [
    "li = [7,7,8,8,9,9,1,1,2,2,3,3,5,5,6,7]"
   ]
  },
  {
   "cell_type": "code",
   "execution_count": 4,
   "metadata": {},
   "outputs": [
    {
     "name": "stdout",
     "output_type": "stream",
     "text": [
      "6\n"
     ]
    }
   ],
   "source": [
    "# Brute force solution\n",
    "for i, j in enumerate(li):\n",
    "    if j == min(li):\n",
    "        print(i)\n",
    "        break"
   ]
  },
  {
   "cell_type": "code",
   "execution_count": 5,
   "metadata": {},
   "outputs": [],
   "source": [
    "def count_rotations_linear(nums):\n",
    "    position = 0\n",
    "\n",
    "    while position < len(nums):\n",
    "        if position > 0 and nums[position] < nums[position -1]:\n",
    "            return position\n",
    "        position += 1\n",
    "\n",
    "    return -1"
   ]
  },
  {
   "cell_type": "code",
   "execution_count": 6,
   "metadata": {},
   "outputs": [
    {
     "data": {
      "text/plain": [
       "[{'input': {'nums': [19, 25, 29, 3, 5, 6, 7, 9, 11, 14]}, 'output': 3},\n",
       " {'input': {'nums': [3, 5, 6, 7, 9, 11, 14, 19, 25, 29]}, 'output': -1},\n",
       " {'input': {'nums': [29, 3, 5, 6, 7, 9, 11, 14, 19, 25]}, 'output': 1},\n",
       " {'input': {'nums': [6, 7, 9, 11, 14, 19, 25, 29, 3, 5]}, 'output': 8},\n",
       " {'input': {'nums': [5, 6, 7, 9, 11, 14, 19, 25, 29, 3]}, 'output': 9},\n",
       " {'input': {'nums': []}, 'output': -1},\n",
       " {'input': {'nums': [3]}, 'output': -1}]"
      ]
     },
     "execution_count": 6,
     "metadata": {},
     "output_type": "execute_result"
    }
   ],
   "source": [
    "tests"
   ]
  },
  {
   "cell_type": "code",
   "execution_count": 9,
   "metadata": {},
   "outputs": [
    {
     "name": "stdout",
     "output_type": "stream",
     "text": [
      "\n",
      "\u001b[1mTEST CASE #0\u001b[0m\n",
      "\n",
      "Input:\n",
      "{'nums': [19, 25, 29, 3, 5, 6, 7, 9, 11, 14]}\n",
      "\n",
      "Expected Output:\n",
      "3\n",
      "\n",
      "\n",
      "Actual Output:\n",
      "3\n",
      "\n",
      "Execution Time:\n",
      "0.004 ms\n",
      "\n",
      "Test Result:\n",
      "\u001b[92mPASSED\u001b[0m\n",
      "\n",
      "\n",
      "\u001b[1mTEST CASE #1\u001b[0m\n",
      "\n",
      "Input:\n",
      "{'nums': [3, 5, 6, 7, 9, 11, 14, 19, 25, 29]}\n",
      "\n",
      "Expected Output:\n",
      "-1\n",
      "\n",
      "\n",
      "Actual Output:\n",
      "-1\n",
      "\n",
      "Execution Time:\n",
      "0.002 ms\n",
      "\n",
      "Test Result:\n",
      "\u001b[92mPASSED\u001b[0m\n",
      "\n",
      "\n",
      "\u001b[1mTEST CASE #2\u001b[0m\n",
      "\n",
      "Input:\n",
      "{'nums': [29, 3, 5, 6, 7, 9, 11, 14, 19, 25]}\n",
      "\n",
      "Expected Output:\n",
      "1\n",
      "\n",
      "\n",
      "Actual Output:\n",
      "1\n",
      "\n",
      "Execution Time:\n",
      "0.002 ms\n",
      "\n",
      "Test Result:\n",
      "\u001b[92mPASSED\u001b[0m\n",
      "\n",
      "\n",
      "\u001b[1mTEST CASE #3\u001b[0m\n",
      "\n",
      "Input:\n",
      "{'nums': [6, 7, 9, 11, 14, 19, 25, 29, 3, 5]}\n",
      "\n",
      "Expected Output:\n",
      "8\n",
      "\n",
      "\n",
      "Actual Output:\n",
      "8\n",
      "\n",
      "Execution Time:\n",
      "0.002 ms\n",
      "\n",
      "Test Result:\n",
      "\u001b[92mPASSED\u001b[0m\n",
      "\n",
      "\n",
      "\u001b[1mTEST CASE #4\u001b[0m\n",
      "\n",
      "Input:\n",
      "{'nums': [5, 6, 7, 9, 11, 14, 19, 25, 29, 3]}\n",
      "\n",
      "Expected Output:\n",
      "9\n",
      "\n",
      "\n",
      "Actual Output:\n",
      "9\n",
      "\n",
      "Execution Time:\n",
      "0.002 ms\n",
      "\n",
      "Test Result:\n",
      "\u001b[92mPASSED\u001b[0m\n",
      "\n",
      "\n",
      "\u001b[1mTEST CASE #5\u001b[0m\n",
      "\n",
      "Input:\n",
      "{'nums': []}\n",
      "\n",
      "Expected Output:\n",
      "-1\n",
      "\n",
      "\n",
      "Actual Output:\n",
      "-1\n",
      "\n",
      "Execution Time:\n",
      "0.001 ms\n",
      "\n",
      "Test Result:\n",
      "\u001b[92mPASSED\u001b[0m\n",
      "\n",
      "\n",
      "\u001b[1mTEST CASE #6\u001b[0m\n",
      "\n",
      "Input:\n",
      "{'nums': [3]}\n",
      "\n",
      "Expected Output:\n",
      "-1\n",
      "\n",
      "\n",
      "Actual Output:\n",
      "-1\n",
      "\n",
      "Execution Time:\n",
      "0.002 ms\n",
      "\n",
      "Test Result:\n",
      "\u001b[92mPASSED\u001b[0m\n",
      "\n",
      "\n",
      "\u001b[1mSUMMARY\u001b[0m\n",
      "\n",
      "TOTAL: 7, \u001b[92mPASSED\u001b[0m: 7, \u001b[91mFAILED\u001b[0m: 0\n"
     ]
    },
    {
     "data": {
      "text/plain": [
       "[(3, True, 0.004),\n",
       " (-1, True, 0.002),\n",
       " (1, True, 0.002),\n",
       " (8, True, 0.002),\n",
       " (9, True, 0.002),\n",
       " (-1, True, 0.001),\n",
       " (-1, True, 0.002)]"
      ]
     },
     "execution_count": 9,
     "metadata": {},
     "output_type": "execute_result"
    }
   ],
   "source": [
    "evaluate_test_cases(count_rotations_linear, tests)"
   ]
  },
  {
   "cell_type": "code",
   "execution_count": 10,
   "metadata": {},
   "outputs": [],
   "source": [
    "def binary_search(lo, hi, condition):\n",
    "    \n",
    "    while lo <= hi:\n",
    "        mid = (lo + hi) // 2\n",
    "        result = condition(mid)\n",
    "        if result == 'found':\n",
    "            return mid\n",
    "        elif result == 'left':\n",
    "            hi = mid -1\n",
    "        else:\n",
    "            lo = mid +1\n",
    "    return -1"
   ]
  },
  {
   "cell_type": "code",
   "execution_count": 13,
   "metadata": {},
   "outputs": [
    {
     "data": {
      "text/plain": [
       "[7, 7, 8, 8, 9, 9, 1, 1, 2, 2, 3, 3, 5, 5, 6, 7]"
      ]
     },
     "execution_count": 13,
     "metadata": {},
     "output_type": "execute_result"
    }
   ],
   "source": [
    "li"
   ]
  },
  {
   "cell_type": "code",
   "execution_count": 12,
   "metadata": {},
   "outputs": [
    {
     "data": {
      "text/plain": [
       "16"
      ]
     },
     "execution_count": 12,
     "metadata": {},
     "output_type": "execute_result"
    }
   ],
   "source": [
    "len(li)"
   ]
  },
  {
   "cell_type": "code",
   "execution_count": 15,
   "metadata": {},
   "outputs": [
    {
     "data": {
      "text/plain": [
       "7"
      ]
     },
     "execution_count": 15,
     "metadata": {},
     "output_type": "execute_result"
    }
   ],
   "source": [
    "li[15]"
   ]
  },
  {
   "cell_type": "code",
   "execution_count": 26,
   "metadata": {},
   "outputs": [],
   "source": [
    "def count_rotations_binary(nums):\n",
    "    lo, hi = 0, len(nums) -1\n",
    "\n",
    "    while lo <= hi:\n",
    "        mid = (lo + hi) // 2\n",
    "        mid_number = nums[mid]\n",
    "\n",
    "        print(\"lo:\", lo, \", hi:\", hi, \", mid:\", mid, \", mid_number:\", mid_number)\n",
    "\n",
    "        if mid > 0 and mid_number < nums[mid -1]:\n",
    "            return mid\n",
    "        elif nums[mid] < nums[0]:\n",
    "            hi = mid -1\n",
    "        else:\n",
    "            lo = mid +1\n",
    "    \n",
    "    return -1"
   ]
  },
  {
   "cell_type": "code",
   "execution_count": 27,
   "metadata": {},
   "outputs": [
    {
     "name": "stdout",
     "output_type": "stream",
     "text": [
      "\n",
      "\u001b[1mTEST CASE #0\u001b[0m\n",
      "lo: 0 , hi: 9 , mid: 4 , mid_number: 5\n",
      "lo: 0 , hi: 3 , mid: 1 , mid_number: 25\n",
      "lo: 2 , hi: 3 , mid: 2 , mid_number: 29\n",
      "lo: 3 , hi: 3 , mid: 3 , mid_number: 3\n",
      "\n",
      "Input:\n",
      "{'nums': [19, 25, 29, 3, 5, 6, 7, 9, 11, 14]}\n",
      "\n",
      "Expected Output:\n",
      "3\n",
      "\n",
      "\n",
      "Actual Output:\n",
      "3\n",
      "\n",
      "Execution Time:\n",
      "0.043 ms\n",
      "\n",
      "Test Result:\n",
      "\u001b[92mPASSED\u001b[0m\n",
      "\n",
      "\n",
      "\u001b[1mTEST CASE #1\u001b[0m\n",
      "lo: 0 , hi: 9 , mid: 4 , mid_number: 9\n",
      "lo: 5 , hi: 9 , mid: 7 , mid_number: 19\n",
      "lo: 8 , hi: 9 , mid: 8 , mid_number: 25\n",
      "lo: 9 , hi: 9 , mid: 9 , mid_number: 29\n",
      "\n",
      "Input:\n",
      "{'nums': [3, 5, 6, 7, 9, 11, 14, 19, 25, 29]}\n",
      "\n",
      "Expected Output:\n",
      "-1\n",
      "\n",
      "\n",
      "Actual Output:\n",
      "-1\n",
      "\n",
      "Execution Time:\n",
      "0.04 ms\n",
      "\n",
      "Test Result:\n",
      "\u001b[92mPASSED\u001b[0m\n",
      "\n",
      "\n",
      "\u001b[1mTEST CASE #2\u001b[0m\n",
      "lo: 0 , hi: 9 , mid: 4 , mid_number: 7\n",
      "lo: 0 , hi: 3 , mid: 1 , mid_number: 3\n",
      "\n",
      "Input:\n",
      "{'nums': [29, 3, 5, 6, 7, 9, 11, 14, 19, 25]}\n",
      "\n",
      "Expected Output:\n",
      "1\n",
      "\n",
      "\n",
      "Actual Output:\n",
      "1\n",
      "\n",
      "Execution Time:\n",
      "0.03 ms\n",
      "\n",
      "Test Result:\n",
      "\u001b[92mPASSED\u001b[0m\n",
      "\n",
      "\n",
      "\u001b[1mTEST CASE #3\u001b[0m\n",
      "lo: 0 , hi: 9 , mid: 4 , mid_number: 14\n",
      "lo: 5 , hi: 9 , mid: 7 , mid_number: 29\n",
      "lo: 8 , hi: 9 , mid: 8 , mid_number: 3\n",
      "\n",
      "Input:\n",
      "{'nums': [6, 7, 9, 11, 14, 19, 25, 29, 3, 5]}\n",
      "\n",
      "Expected Output:\n",
      "8\n",
      "\n",
      "\n",
      "Actual Output:\n",
      "8\n",
      "\n",
      "Execution Time:\n",
      "0.03 ms\n",
      "\n",
      "Test Result:\n",
      "\u001b[92mPASSED\u001b[0m\n",
      "\n",
      "\n",
      "\u001b[1mTEST CASE #4\u001b[0m\n",
      "lo: 0 , hi: 9 , mid: 4 , mid_number: 11\n",
      "lo: 5 , hi: 9 , mid: 7 , mid_number: 25\n",
      "lo: 8 , hi: 9 , mid: 8 , mid_number: 29\n",
      "lo: 9 , hi: 9 , mid: 9 , mid_number: 3\n",
      "\n",
      "Input:\n",
      "{'nums': [5, 6, 7, 9, 11, 14, 19, 25, 29, 3]}\n",
      "\n",
      "Expected Output:\n",
      "9\n",
      "\n",
      "\n",
      "Actual Output:\n",
      "9\n",
      "\n",
      "Execution Time:\n",
      "0.039 ms\n",
      "\n",
      "Test Result:\n",
      "\u001b[92mPASSED\u001b[0m\n",
      "\n",
      "\n",
      "\u001b[1mTEST CASE #5\u001b[0m\n",
      "\n",
      "Input:\n",
      "{'nums': []}\n",
      "\n",
      "Expected Output:\n",
      "-1\n",
      "\n",
      "\n",
      "Actual Output:\n",
      "-1\n",
      "\n",
      "Execution Time:\n",
      "0.001 ms\n",
      "\n",
      "Test Result:\n",
      "\u001b[92mPASSED\u001b[0m\n",
      "\n",
      "\n",
      "\u001b[1mTEST CASE #6\u001b[0m\n",
      "lo: 0 , hi: 0 , mid: 0 , mid_number: 3\n",
      "\n",
      "Input:\n",
      "{'nums': [3]}\n",
      "\n",
      "Expected Output:\n",
      "-1\n",
      "\n",
      "\n",
      "Actual Output:\n",
      "-1\n",
      "\n",
      "Execution Time:\n",
      "0.013 ms\n",
      "\n",
      "Test Result:\n",
      "\u001b[92mPASSED\u001b[0m\n",
      "\n",
      "\n",
      "\u001b[1mSUMMARY\u001b[0m\n",
      "\n",
      "TOTAL: 7, \u001b[92mPASSED\u001b[0m: 7, \u001b[91mFAILED\u001b[0m: 0\n"
     ]
    },
    {
     "data": {
      "text/plain": [
       "[(3, True, 0.043),\n",
       " (-1, True, 0.04),\n",
       " (1, True, 0.03),\n",
       " (8, True, 0.03),\n",
       " (9, True, 0.039),\n",
       " (-1, True, 0.001),\n",
       " (-1, True, 0.013)]"
      ]
     },
     "execution_count": 27,
     "metadata": {},
     "output_type": "execute_result"
    }
   ],
   "source": [
    "evaluate_test_cases(count_rotations_binary, tests)"
   ]
  },
  {
   "cell_type": "code",
   "execution_count": null,
   "metadata": {},
   "outputs": [],
   "source": []
  }
 ],
 "metadata": {
  "kernelspec": {
   "display_name": "Python 3",
   "language": "python",
   "name": "python3"
  },
  "language_info": {
   "codemirror_mode": {
    "name": "ipython",
    "version": 3
   },
   "file_extension": ".py",
   "mimetype": "text/x-python",
   "name": "python",
   "nbconvert_exporter": "python",
   "pygments_lexer": "ipython3",
   "version": "3.10.0"
  },
  "orig_nbformat": 4,
  "vscode": {
   "interpreter": {
    "hash": "aabe83f9134815b959d7ec1c06d19614056b327d7ff48cedb6a358ab99e2f647"
   }
  }
 },
 "nbformat": 4,
 "nbformat_minor": 2
}
